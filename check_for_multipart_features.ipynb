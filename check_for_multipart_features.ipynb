{
  "cells": [
    {
      "cell_type": "markdown",
      "metadata": {},
      "source": [
        "First, we install and load the Python packages we need to check for multipart features in line shapefiles. "
      ]
    },
    {
      "cell_type": "code",
      "execution_count": 1,
      "metadata": {},
      "outputs": [],
      "source": [
        "%%capture\n",
        "%pip install geopandas\n",
        "%pip install pandas\n",
        "%pip install numpy"
      ]
    },
    {
      "cell_type": "code",
      "execution_count": 2,
      "metadata": {
        "id": "Rs92EKqAp8nd"
      },
      "outputs": [],
      "source": [
        "import geopandas as gpd\n",
        "import os\n",
        "import pandas as pd\n",
        "import numpy as np\n",
        "import math\n",
        "pd.options.mode.chained_assignment = None"
      ]
    },
    {
      "cell_type": "markdown",
      "metadata": {},
      "source": [
        "Next, we set up the directory to where our data is stored. This tells our code where to find the shapefiles we want to check. "
      ]
    },
    {
      "cell_type": "code",
      "execution_count": 3,
      "metadata": {
        "colab": {
          "base_uri": "https://localhost:8080/"
        },
        "id": "MhiNIELhqK_8",
        "outputId": "370d0b96-920a-4d72-d933-711ea622df5b"
      },
      "outputs": [],
      "source": [
        "dirname = 'data/'"
      ]
    },
    {
      "cell_type": "code",
      "execution_count": 4,
      "metadata": {
        "id": "k8kyKLVtqO-M"
      },
      "outputs": [],
      "source": [
        "folder_name = 'line_shapefiles' # Folder where the line shapefiles are stored. "
      ]
    },
    {
      "cell_type": "code",
      "execution_count": 5,
      "metadata": {
        "id": "-CQQNiRZqTML"
      },
      "outputs": [],
      "source": [
        "layer_interest = ['road_line','river_line'] #These are the names of the shapefiles we want to check. "
      ]
    },
    {
      "cell_type": "markdown",
      "metadata": {},
      "source": [
        "Our code loops through the shapefiles of interest in the directory. The code prints the file name and then prints a list of feature IDs for each layer that are multipart. "
      ]
    },
    {
      "cell_type": "code",
      "execution_count": 6,
      "metadata": {
        "colab": {
          "base_uri": "https://localhost:8080/"
        },
        "id": "9wyBH7tVqkli",
        "outputId": "b8475b86-c727-43dd-829a-21555b8df25d"
      },
      "outputs": [],
      "source": [
        "for filename in os.listdir(dirname):\n",
        "    if folder_name in filename:\n",
        "        print(filename+'..............................................................')\n",
        "        crs = []\n",
        "        count = 0\n",
        "        for sf in os.listdir(dirname+'/'+filename):\n",
        "            final = []\n",
        "\n",
        "            if sf.endswith('.shp') and any([i in sf for i in layer_interest]) and folder_name in sf and 'lock' not in sf:\n",
        "              final = []\n",
        "              print(sf)\n",
        "              pt_gdf = gpd.read_file(dirname+'/'+filename+'/'+sf)\n",
        "              exploded = pt_gdf.explode(index_parts=False)\n",
        "              if len(exploded) == len(pt_gdf):\n",
        "                print('No multipart features')\n",
        "              else:\n",
        "                exploded['idx_counter'] = exploded.index\n",
        "                exploded['num_features'] = exploded['idx_counter'].value_counts()\n",
        "                print(exploded[exploded['num_features'] > 1])\n",
        "\n",
        "              if count == 0:\n",
        "                  crs.append(pt_gdf.crs)"
      ]
    }
  ],
  "metadata": {
    "colab": {
      "provenance": []
    },
    "kernelspec": {
      "display_name": "Python 3",
      "name": "python3"
    },
    "language_info": {
      "codemirror_mode": {
        "name": "ipython",
        "version": 3
      },
      "file_extension": ".py",
      "mimetype": "text/x-python",
      "name": "python",
      "nbconvert_exporter": "python",
      "pygments_lexer": "ipython3",
      "version": "3.10.13"
    }
  },
  "nbformat": 4,
  "nbformat_minor": 0
}
